{
 "cells": [
  {
   "cell_type": "markdown",
   "metadata": {},
   "source": [
    "### AND, OR, NOT"
   ]
  },
  {
   "cell_type": "code",
   "execution_count": 1,
   "metadata": {},
   "outputs": [],
   "source": [
    "t1 = t2 = True\n",
    "f1 = f2 = False"
   ]
  },
  {
   "cell_type": "code",
   "execution_count": 2,
   "metadata": {},
   "outputs": [
    {
     "name": "stdout",
     "output_type": "stream",
     "text": [
      "expressão verdadeira\n"
     ]
    }
   ],
   "source": [
    "if t1 and t2:\n",
    "  print('expressão verdadeira')\n",
    "else:\n",
    "  print('expressão falsa')"
   ]
  },
  {
   "cell_type": "code",
   "execution_count": 3,
   "metadata": {},
   "outputs": [
    {
     "name": "stdout",
     "output_type": "stream",
     "text": [
      "expressão verdadeira\n"
     ]
    }
   ],
   "source": [
    "if t1 or f2:\n",
    "  print('expressão verdadeira')\n",
    "else:\n",
    "  print('expressão falsa')"
   ]
  },
  {
   "cell_type": "code",
   "execution_count": 4,
   "metadata": {},
   "outputs": [
    {
     "name": "stdout",
     "output_type": "stream",
     "text": [
      "expressão verdadeira\n"
     ]
    }
   ],
   "source": [
    "if not f1:\n",
    "  print('expressão verdadeira')\n",
    "else:\n",
    "  print('expressão falsa')"
   ]
  },
  {
   "cell_type": "markdown",
   "metadata": {},
   "source": [
    "### IN"
   ]
  },
  {
   "cell_type": "markdown",
   "metadata": {},
   "source": [
    "\n",
    "---\n",
    "\n",
    "**Situação:**\n",
    "\n",
    "Na escola foi passada uma lista com nomes de estudantes que foram aprovados por média no semestre, mas é preciso verificar se alguns nomes estão nessa lista para verificar se os dados estão corretos.\n",
    "\n",
    "A lista distribuida pode ser observada abaixo:\n",
    "\n",
    "```\n",
    "lista = 'José da Silva, Maria Oliveira, Pedro Martins, Ana Souza, Carlos Rodrigues, Juliana Santos, Bruno Gomes, Beatriz Costa, Felipe Almeida, Mariana Fernandes, João Pinto, Luísa Nascimento, Gabriel Souza, Manuela Santos, Thiago Oliveira, Sofia Ferreira, Rafael Albuquerque, Isabella Gomes, Bruno Costa, Maria Martins, Rafaela Souza, Matheus Fernandes, Luísa Almeida, Beatriz Pinto, Mariana Rodrigues, Gabriel Nascimento, João Ferreira, Maria Albuquerque, Felipe Oliveira\n",
    "'\n",
    "```\n",
    "\n",
    "Os nomes que precisam ser verificados são os seguintes:\n",
    "\n",
    "```\n",
    "nome_1 = 'Mariana Rodrigues'\n",
    "nome_2 = 'Marcelo Nogueira'\n",
    "```"
   ]
  },
  {
   "cell_type": "code",
   "execution_count": 5,
   "metadata": {},
   "outputs": [
    {
     "name": "stdout",
     "output_type": "stream",
     "text": [
      "Mariana Rodrigues está na lista\n"
     ]
    }
   ],
   "source": [
    "lista = 'José da Silva, Maria Oliveira, Pedro Martins, Ana Souza, Carlos Rodrigues, Juliana Santos, Bruno Gomes, Beatriz Costa, Felipe Almeida, Mariana Fernandes, João Pinto, Luísa Nascimento, Gabriel Souza, Manuela Santos, Thiago Oliveira, Sofia Ferreira, Rafael Albuquerque, Isabella Gomes, Bruno Costa, Maria Martins, Rafaela Souza, Matheus Fernandes, Luísa Almeida, Beatriz Pinto, Mariana Rodrigues, Gabriel Nascimento, João Ferreira, Maria Albuquerque, Felipe Oliveira'\n",
    "\n",
    "nome_1 = 'Mariana Rodrigues'\n",
    "nome_2 = 'Marcelo Nogueira'\n",
    "\n",
    "if nome_1 in lista:\n",
    "  print(f'{nome_1} está na lista')\n",
    "else:\n",
    "  print(f'{nome_1} não está na lista')"
   ]
  },
  {
   "cell_type": "code",
   "execution_count": 6,
   "metadata": {},
   "outputs": [
    {
     "name": "stdout",
     "output_type": "stream",
     "text": [
      "Marcelo Nogueira não está na lista\n"
     ]
    }
   ],
   "source": [
    "if nome_2 in lista:\n",
    "  print(f'{nome_2} está na lista')\n",
    "else:\n",
    "  print(f'{nome_2} não está na lista')"
   ]
  }
 ],
 "metadata": {
  "kernelspec": {
   "display_name": "base",
   "language": "python",
   "name": "python3"
  },
  "language_info": {
   "codemirror_mode": {
    "name": "ipython",
    "version": 3
   },
   "file_extension": ".py",
   "mimetype": "text/x-python",
   "name": "python",
   "nbconvert_exporter": "python",
   "pygments_lexer": "ipython3",
   "version": "3.11.3"
  }
 },
 "nbformat": 4,
 "nbformat_minor": 2
}
