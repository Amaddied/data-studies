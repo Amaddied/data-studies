{
 "cells": [
  {
   "cell_type": "markdown",
   "metadata": {},
   "source": [
    "Vamos fazer o mesmo contador `while` agora com `for`."
   ]
  },
  {
   "cell_type": "code",
   "execution_count": null,
   "metadata": {},
   "outputs": [],
   "source": [
    "for contador in range(1,11):\n",
    "  print(contador)"
   ]
  },
  {
   "cell_type": "code",
   "execution_count": null,
   "metadata": {},
   "outputs": [],
   "source": [
    "for contador in range(1,4):\n",
    "  nota_1 = float(input('Digite a 1° nota: '))\n",
    "  nota_2 = float(input('Digite a 2° nota: '))\n",
    "\n",
    "  print(f'Média: {(nota_1+nota_2)/2}')"
   ]
  }
 ],
 "metadata": {
  "language_info": {
   "name": "python"
  }
 },
 "nbformat": 4,
 "nbformat_minor": 2
}
