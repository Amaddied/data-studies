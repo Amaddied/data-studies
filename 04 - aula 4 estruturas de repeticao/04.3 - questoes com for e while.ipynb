{
 "cells": [
  {
   "cell_type": "markdown",
   "metadata": {},
   "source": [
    "## Aula 4 - Estruturas de repetição"
   ]
  },
  {
   "cell_type": "markdown",
   "metadata": {},
   "source": [
    "### Aquecendo na programação"
   ]
  },
  {
   "cell_type": "markdown",
   "metadata": {},
   "source": [
    "#### Questão 1\n",
    "Escreva um programa que peça dois números inteiros e imprima todos os números inteiros entre eles."
   ]
  },
  {
   "cell_type": "code",
   "execution_count": null,
   "metadata": {},
   "outputs": [
    {
     "name": "stdout",
     "output_type": "stream",
     "text": [
      "Insira o primeiro número inteiro: 10\n",
      "Insira o segundo número inteiro: 5\n",
      "6\n",
      "7\n",
      "8\n",
      "9\n"
     ]
    }
   ],
   "source": [
    "\n",
    "# Coletamos os valores de início e fim\n",
    "inicio = int(input('Insira o primeiro número inteiro: '))\n",
    "fim = int(input('Insira o segundo número inteiro: '))\n",
    "\n",
    "# Verificamos se o valor de início é maior que o fim\n",
    "if inicio < fim:\n",
    "  # podemos imprimir os inteiros entre o menor e o maior valor\n",
    "  for i in range(inicio + 1, fim):\n",
    "    print(i)\n",
    "elif inicio > fim:\n",
    "  for i in range(fim + 1, inicio):\n",
    "    print(i)\n",
    "else: #caso os números sejam iguais, não conseguimos imprimir sequência alguma\n",
    "  print('Os números são iguais.')\n"
   ]
  },
  {
   "cell_type": "markdown",
   "metadata": {},
   "source": [
    "#### Questão 2\n",
    "Escreva um programa para calcular quantos dias levará para a colônia de uma bactéria A ultrapassar ou igualar a colônia de uma bactéria B, com base nas taxas de crescimento de 3% e 1,5% respectivamente. Considere que a colônia A inicia com 4 elementos e a colônia B com 10 elementos."
   ]
  },
  {
   "cell_type": "code",
   "execution_count": null,
   "metadata": {},
   "outputs": [
    {
     "name": "stdout",
     "output_type": "stream",
     "text": [
      "Irá levar 63 dias para a colônia A ultrapassar a colônia B.\n"
     ]
    }
   ],
   "source": [
    "# número inicial de bactérias\n",
    "colonia_a = 4\n",
    "colonia_b = 10\n",
    "\n",
    "# taxas de crescimento das colônias\n",
    "taxa_a = 0.03\n",
    "taxa_b = 0.015\n",
    "\n",
    "# contador de dias\n",
    "dias = 0\n",
    "\n",
    "# A condição que finaliza o laço é o caso em que\n",
    "# a colônia A ultrapasse a colônia B\n",
    "while colonia_a <= colonia_b:\n",
    "  # usamos um operador de atribuição com multiplicação\n",
    "  colonia_a *= 1 + taxa_a\n",
    "  colonia_b *= 1 + taxa_b\n",
    "  # contamos o dia para cada iteração\n",
    "  dias += 1\n",
    "\n",
    "# resultado final\n",
    "print(f'Irá levar {dias} dias para a colônia A ultrapassar a colônia B.')\n"
   ]
  },
  {
   "cell_type": "markdown",
   "metadata": {},
   "source": [
    "#### Questão 3\n",
    "Para tratar uma quantidade de 15 dados de avaliações de pessoas usuárias de um serviço da empresa, precisamos verificar se as notas são válidas. Então, escreva um programa que vai receber a nota de 0 a 5 de todos os dados e verificar se é um valor válido. Caso seja inserido uma nota acima de 5 ou abaixo de 0, repita até que a pessoa usuária insira um valor válido."
   ]
  },
  {
   "cell_type": "code",
   "execution_count": null,
   "metadata": {},
   "outputs": [
    {
     "name": "stdout",
     "output_type": "stream",
     "text": [
      "Insira a nota da pessoa usuária 0: 5\n"
     ]
    },
    {
     "ename": "KeyboardInterrupt",
     "evalue": "ignored",
     "output_type": "error",
     "traceback": [
      "\u001b[0;31m---------------------------------------------------------------------------\u001b[0m\n",
      "\u001b[0;31mKeyboardInterrupt\u001b[0m                         Traceback (most recent call last)\n",
      "\u001b[0;32m<ipython-input-1-0c9e2b35c10e>\u001b[0m in \u001b[0;36m<cell line: 3>\u001b[0;34m()\u001b[0m\n",
      "\u001b[1;32m      2\u001b[0m \u001b[0;31m# laço para pegar as 15 notas\u001b[0m\u001b[0;34m\u001b[0m\u001b[0;34m\u001b[0m\u001b[0m\n",
      "\u001b[1;32m      3\u001b[0m \u001b[0;32mfor\u001b[0m \u001b[0mi\u001b[0m \u001b[0;32min\u001b[0m \u001b[0mrange\u001b[0m\u001b[0;34m(\u001b[0m\u001b[0;36m15\u001b[0m\u001b[0;34m)\u001b[0m\u001b[0;34m:\u001b[0m\u001b[0;34m\u001b[0m\u001b[0;34m\u001b[0m\u001b[0m\n",
      "\u001b[0;32m----> 4\u001b[0;31m   \u001b[0mnota\u001b[0m \u001b[0;34m=\u001b[0m \u001b[0mfloat\u001b[0m\u001b[0;34m(\u001b[0m\u001b[0minput\u001b[0m\u001b[0;34m(\u001b[0m\u001b[0;34mf'Insira a nota da pessoa usuária {i}: '\u001b[0m\u001b[0;34m)\u001b[0m\u001b[0;34m)\u001b[0m\u001b[0;34m\u001b[0m\u001b[0;34m\u001b[0m\u001b[0m\n",
      "\u001b[0m\u001b[1;32m      5\u001b[0m \u001b[0;34m\u001b[0m\u001b[0m\n",
      "\u001b[1;32m      6\u001b[0m   \u001b[0;31m# verifica se a nota está entre 0 e 5\u001b[0m\u001b[0;34m\u001b[0m\u001b[0;34m\u001b[0m\u001b[0m\n",
      "\n",
      "\u001b[0;32m/usr/local/lib/python3.10/dist-packages/ipykernel/kernelbase.py\u001b[0m in \u001b[0;36mraw_input\u001b[0;34m(self, prompt)\u001b[0m\n",
      "\u001b[1;32m    849\u001b[0m                 \u001b[0;34m\"raw_input was called, but this frontend does not support input requests.\"\u001b[0m\u001b[0;34m\u001b[0m\u001b[0;34m\u001b[0m\u001b[0m\n",
      "\u001b[1;32m    850\u001b[0m             )\n",
      "\u001b[0;32m--> 851\u001b[0;31m         return self._input_request(str(prompt),\n",
      "\u001b[0m\u001b[1;32m    852\u001b[0m             \u001b[0mself\u001b[0m\u001b[0;34m.\u001b[0m\u001b[0m_parent_ident\u001b[0m\u001b[0;34m,\u001b[0m\u001b[0;34m\u001b[0m\u001b[0;34m\u001b[0m\u001b[0m\n",
      "\u001b[1;32m    853\u001b[0m             \u001b[0mself\u001b[0m\u001b[0;34m.\u001b[0m\u001b[0m_parent_header\u001b[0m\u001b[0;34m,\u001b[0m\u001b[0;34m\u001b[0m\u001b[0;34m\u001b[0m\u001b[0m\n",
      "\n",
      "\u001b[0;32m/usr/local/lib/python3.10/dist-packages/ipykernel/kernelbase.py\u001b[0m in \u001b[0;36m_input_request\u001b[0;34m(self, prompt, ident, parent, password)\u001b[0m\n",
      "\u001b[1;32m    893\u001b[0m             \u001b[0;32mexcept\u001b[0m \u001b[0mKeyboardInterrupt\u001b[0m\u001b[0;34m:\u001b[0m\u001b[0;34m\u001b[0m\u001b[0;34m\u001b[0m\u001b[0m\n",
      "\u001b[1;32m    894\u001b[0m                 \u001b[0;31m# re-raise KeyboardInterrupt, to truncate traceback\u001b[0m\u001b[0;34m\u001b[0m\u001b[0;34m\u001b[0m\u001b[0m\n",
      "\u001b[0;32m--> 895\u001b[0;31m                 \u001b[0;32mraise\u001b[0m \u001b[0mKeyboardInterrupt\u001b[0m\u001b[0;34m(\u001b[0m\u001b[0;34m\"Interrupted by user\"\u001b[0m\u001b[0;34m)\u001b[0m \u001b[0;32mfrom\u001b[0m \u001b[0;32mNone\u001b[0m\u001b[0;34m\u001b[0m\u001b[0;34m\u001b[0m\u001b[0m\n",
      "\u001b[0m\u001b[1;32m    896\u001b[0m             \u001b[0;32mexcept\u001b[0m \u001b[0mException\u001b[0m \u001b[0;32mas\u001b[0m \u001b[0me\u001b[0m\u001b[0;34m:\u001b[0m\u001b[0;34m\u001b[0m\u001b[0;34m\u001b[0m\u001b[0m\n",
      "\u001b[1;32m    897\u001b[0m                 \u001b[0mself\u001b[0m\u001b[0;34m.\u001b[0m\u001b[0mlog\u001b[0m\u001b[0;34m.\u001b[0m\u001b[0mwarning\u001b[0m\u001b[0;34m(\u001b[0m\u001b[0;34m\"Invalid Message:\"\u001b[0m\u001b[0;34m,\u001b[0m \u001b[0mexc_info\u001b[0m\u001b[0;34m=\u001b[0m\u001b[0;32mTrue\u001b[0m\u001b[0;34m)\u001b[0m\u001b[0;34m\u001b[0m\u001b[0;34m\u001b[0m\u001b[0m\n",
      "\n",
      "\u001b[0;31mKeyboardInterrupt\u001b[0m: Interrupted by user"
     ]
    }
   ],
   "source": [
    "\n",
    "# laço para pegar as 15 notas\n",
    "for i in range(15):\n",
    "  nota = float(input(f'Insira a nota da pessoa usuária {i}: '))\n",
    "\n",
    "  # verifica se a nota está entre 0 e 5\n",
    "  # se estiver, o laço rodará ininterruptamente até ser obtido um valor válido\n",
    "  while (nota < 0) or (nota > 5):\n",
    "    nota = float(input(f'Nota inválida, insira novamente a nota da pessoa usuária {i}: '))\n",
    "\n",
    "print('Verificação feita. Todas as notas são válidas')\n"
   ]
  },
  {
   "cell_type": "markdown",
   "metadata": {},
   "source": [
    "#### Questão 4\n",
    "Desenvolva um programa que leia um conjunto indeterminado de temperaturas em Celsius e faça uma análise. Portanto, escreva um programa que leia temperaturas e informe a média delas. A leitura deve ser encerrada ao ser enviado o valor -273°C."
   ]
  },
  {
   "cell_type": "code",
   "execution_count": null,
   "metadata": {},
   "outputs": [],
   "source": [
    "\n",
    "# coletamos a temperatura\n",
    "temperatura = float(input('Insira a temperatura em Celsius: '))\n",
    "\n",
    "# inicializamos uma contadora e soma para a média\n",
    "contadora = 0\n",
    "soma = 0\n",
    "\n",
    "# nosso código executa sempre até o valor de temperatura for igual a -273\n",
    "while temperatura != -273:\n",
    "    # a soma é dada com a adição da temperatura à variavel soma\n",
    "    soma += temperatura\n",
    "    # contamos a quantidade de valores coletados através da contadora\n",
    "    contadora += 1\n",
    "    # coletamos novamente a temperatura\n",
    "    temperatura = float(input('Insira a temperatura em Celsius: '))\n",
    "\n",
    "media = soma / contadora\n",
    "\n",
    "print(f'A média das temperaturas é: {media}')\n"
   ]
  },
  {
   "cell_type": "markdown",
   "metadata": {},
   "source": [
    "#### Questão 5\n",
    "Escreva um programa que calcule o fatorial de um número inteiro fornecido pela pessoa usuária. O fatorial de um número inteiro é a multiplicação desse número por todos os seus antecessores até o número 1. Por exemplo, o fatorial de 5 é 5 x 4 x 3 x 2 x 1 = 120."
   ]
  },
  {
   "cell_type": "code",
   "execution_count": null,
   "metadata": {},
   "outputs": [
    {
     "name": "stdout",
     "output_type": "stream",
     "text": [
      "insira um número: 5\n",
      "5\n",
      "20\n",
      "60\n",
      "120\n",
      "120\n",
      "o fatorial de 5 é 120\n"
     ]
    }
   ],
   "source": [
    "#lendo o número inteiro fornecido pelo usuário\n",
    "num = int(input(\"insira um número: \"))\n",
    "i = num\n",
    "fatorial = 1\n",
    "while i > 0:\n",
    "  fatorial *= i\n",
    "  print(fatorial)\n",
    "  i-=1\n",
    "print(f'o fatorial de {num} é {fatorial}')\n"
   ]
  },
  {
   "cell_type": "code",
   "execution_count": null,
   "metadata": {},
   "outputs": [
    {
     "name": "stdout",
     "output_type": "stream",
     "text": [
      "Informe um número inteiro: 5\n",
      "Fatorial de 5 é 120\n"
     ]
    }
   ],
   "source": [
    "\n",
    "# Pedir o número\n",
    "num = int(input('Informe um número inteiro: '))\n",
    "\n",
    "# Inicializar o cálculo\n",
    "fatorial = 1\n",
    "\n",
    "# nosso contador inicializa com o número máximo\n",
    "# e será feita uma contagem decrescente com o operador -=\n",
    "i = num\n",
    "while i > 0:\n",
    "    # queremos multiplicar agora o valor do fatorial pelo num\n",
    "    # e todos os números abaixo dele até 1\n",
    "    fatorial *= i\n",
    "    i -= 1\n",
    "\n",
    "# Imprimir o cálculo do fatorial\n",
    "print(f'Fatorial de {num} é {fatorial}')\n"
   ]
  },
  {
   "cell_type": "markdown",
   "metadata": {},
   "source": [
    "### Momento dos projetos"
   ]
  },
  {
   "cell_type": "markdown",
   "metadata": {},
   "source": [
    "#### Questão 6\n",
    "Escreva um programa que gere a tabuada de um número inteiro de 1 a 10, de acordo com a escolha da pessoa usuária. Como exemplo, para o número 2, a tabuada deve ser mostrada no seguinte formato:\n",
    "```\n",
    "Tabuada do 2:\n",
    "2 x 1 = 2\n",
    "2 x 2 = 4\n",
    "[...]\n",
    "2 x 10 = 20\n",
    "```"
   ]
  },
  {
   "cell_type": "code",
   "execution_count": null,
   "metadata": {},
   "outputs": [
    {
     "name": "stdout",
     "output_type": "stream",
     "text": [
      "Insira um número de 1 a 10 para visualizar a sua tabuada: 3\n",
      "3 X 1 = 3\n",
      "3 X 2 = 6\n",
      "3 X 3 = 9\n",
      "3 X 4 = 12\n",
      "3 X 5 = 15\n",
      "3 X 6 = 18\n",
      "3 X 7 = 21\n",
      "3 X 8 = 24\n",
      "3 X 9 = 27\n",
      "3 X 10 = 30\n"
     ]
    }
   ],
   "source": [
    "#leitura do número\n",
    "num = int(input('Insira um número de 1 a 10 para visualizar a sua tabuada: '))\n",
    "#contador também servirá para multiplicar\n",
    "#condição para o programa rodar\n",
    "for i in range(1,11):\n",
    "  multi = (num * i)\n",
    "  print(f'{num} X {i} = {multi}')"
   ]
  },
  {
   "cell_type": "markdown",
   "metadata": {},
   "source": [
    "#### Questão 7\n",
    "Os números primos possuem várias aplicações dentro da Ciência de Dados, por exemplo, na criptografia e segurança. Um número primo é aquele que é divisível apenas por um e por ele mesmo. Faça um programa que peça um número inteiro e determine se ele é ou não um número primo."
   ]
  },
  {
   "cell_type": "code",
   "execution_count": null,
   "metadata": {},
   "outputs": [
    {
     "name": "stdout",
     "output_type": "stream",
     "text": [
      "Insira um número inteiro: 4\n",
      "4 não é um número primo\n"
     ]
    }
   ],
   "source": [
    "\n",
    "#coletamos o número\n",
    "num = int(input('Insira um número inteiro: '))\n",
    "\n",
    "# números inteiros iguais ou abaixo de 1 não consideramos primos\n",
    "if num > 1:\n",
    "    for i in range(2, num):\n",
    "        # verificamos todos os restos de divisões entre todos os números abaixo de num\n",
    "        # se algum resto for 0, então ele é divisível por outro número além dele e 1\n",
    "        if (num % i) == 0:\n",
    "            print(f'{num} não é um número primo')\n",
    "            break\n",
    "    else:\n",
    "        print(f'{num} é um número primo')\n",
    "else:\n",
    "    print(f'{num} não é um número primo')\n"
   ]
  },
  {
   "cell_type": "markdown",
   "metadata": {},
   "source": [
    "#### Questão 8\n",
    "Vamos entender a distribuição de idades de pensionistas de uma empresa de previdência. Escreva um programa que leia as idades de uma quantidade não informada de clientes e mostre a distribuição em intervalos de [0-25], [26-50], [51-75] e [76-100]. Encerre a entrada de dados com um número negativo."
   ]
  },
  {
   "cell_type": "code",
   "execution_count": null,
   "metadata": {},
   "outputs": [],
   "source": [
    "\n",
    "\n",
    "# Coletamos as idades dos clientes\n",
    "idade = int(input('Informe a idade (ou um número negativo para encerrar): '))\n",
    "\n",
    "# Inicializamos as variáveis de contadores\n",
    "contador_0_25 = 0 # contador de idades entre 0 e 25\n",
    "contador_26_50 = 0 # contador de idades entre 26 e 50\n",
    "contador_51_75 = 0 # contador de idades entre 51 e 75\n",
    "contador_76_100 = 0 # contador de idades entre 76 e 100\n",
    "\n",
    "# nosso código executa sempre até o valor de idade for negativa\n",
    "while idade >= 0:\n",
    "    # contamos cada caso\n",
    "    if idade >= 0 and idade <= 25:\n",
    "        contador_0_25 += 1\n",
    "    elif idade >= 26 and idade <= 50:\n",
    "        contador_26_50 += 1\n",
    "    elif idade >= 51 and idade <= 75:\n",
    "        contador_51_75 += 1\n",
    "    elif idade >= 76 and idade <= 100:\n",
    "        contador_76_100 += 1\n",
    "\n",
    "    # Repetir o processo de entrada de dados até que seja digitado um número negativo\n",
    "    idade = int(input('Informe a idade (ou um número negativo para encerrar): '))\n",
    "\n",
    "# Mostramos os resultados\n",
    "print('Distribuição de idades:')\n",
    "print('[0-25]:', contador_0_25)\n",
    "print('[26-50]:', contador_26_50)\n",
    "print('[51-75]:', contador_51_75)\n",
    "print('[76-100]:', contador_76_100)\n"
   ]
  },
  {
   "cell_type": "markdown",
   "metadata": {},
   "source": [
    "#### Questão 9\n",
    "Em uma eleição para gerência em uma empresa com 20 funcionários, existem quatro candidatos. Escreva um programa que calcule o vencedor da eleição. A votação ocorreu da seguinte maneira:\n",
    "- Cada funcionário votou em um dos quatro candidatos (representados pelos números 1, 2, 3 e 4).\n",
    "- Também foram contabilizados os votos nulos (representado pelo número 5) e os votos em branco (representado pelo número 6).\n",
    "\n",
    "Ao final da votação, o programa deve exibir o total de votos para cada candidato, o número de votos nulos e o número de votos em branco. Além disso, deve calcular e exibir a porcentagem de votos nulos em relação ao total de votos e a porcentagem de votos em branco em relação ao total de votos."
   ]
  },
  {
   "cell_type": "code",
   "execution_count": null,
   "metadata": {},
   "outputs": [
    {
     "name": "stdout",
     "output_type": "stream",
     "text": [
      "Insira o número correspondente ao seu voto, para candidatos 1,2.3 ou 4. \n",
      "Para voto nulo tecle 5 \n",
      "Para voto em branco tecle 6 \n",
      "2\n",
      "Insira o número correspondente ao seu voto, para candidatos 1,2.3 ou 4. \n",
      "Para voto nulo tecle 5 \n",
      "Para voto em branco tecle 6 \n",
      "2\n",
      "Insira o número correspondente ao seu voto, para candidatos 1,2.3 ou 4. \n",
      "Para voto nulo tecle 5 \n",
      "Para voto em branco tecle 6 \n",
      "2\n",
      "Insira o número correspondente ao seu voto, para candidatos 1,2.3 ou 4. \n",
      "Para voto nulo tecle 5 \n",
      "Para voto em branco tecle 6 \n",
      "5\n",
      "Insira o número correspondente ao seu voto, para candidatos 1,2.3 ou 4. \n",
      "Para voto nulo tecle 5 \n",
      "Para voto em branco tecle 6 \n",
      "5\n",
      "Insira o número correspondente ao seu voto, para candidatos 1,2.3 ou 4. \n",
      "Para voto nulo tecle 5 \n",
      "Para voto em branco tecle 6 \n",
      "6\n",
      "Insira o número correspondente ao seu voto, para candidatos 1,2.3 ou 4. \n",
      "Para voto nulo tecle 5 \n",
      "Para voto em branco tecle 6 \n",
      "5\n",
      "Insira o número correspondente ao seu voto, para candidatos 1,2.3 ou 4. \n",
      "Para voto nulo tecle 5 \n",
      "Para voto em branco tecle 6 \n",
      "1\n",
      "Insira o número correspondente ao seu voto, para candidatos 1,2.3 ou 4. \n",
      "Para voto nulo tecle 5 \n",
      "Para voto em branco tecle 6 \n",
      "4\n",
      "Insira o número correspondente ao seu voto, para candidatos 1,2.3 ou 4. \n",
      "Para voto nulo tecle 5 \n",
      "Para voto em branco tecle 6 \n",
      "1\n",
      "Insira o número correspondente ao seu voto, para candidatos 1,2.3 ou 4. \n",
      "Para voto nulo tecle 5 \n",
      "Para voto em branco tecle 6 \n",
      "1\n",
      "Insira o número correspondente ao seu voto, para candidatos 1,2.3 ou 4. \n",
      "Para voto nulo tecle 5 \n",
      "Para voto em branco tecle 6 \n",
      "2\n",
      "Insira o número correspondente ao seu voto, para candidatos 1,2.3 ou 4. \n",
      "Para voto nulo tecle 5 \n",
      "Para voto em branco tecle 6 \n",
      "3\n",
      "Insira o número correspondente ao seu voto, para candidatos 1,2.3 ou 4. \n",
      "Para voto nulo tecle 5 \n",
      "Para voto em branco tecle 6 \n",
      "4\n",
      "Insira o número correspondente ao seu voto, para candidatos 1,2.3 ou 4. \n",
      "Para voto nulo tecle 5 \n",
      "Para voto em branco tecle 6 \n",
      "1\n",
      "Insira o número correspondente ao seu voto, para candidatos 1,2.3 ou 4. \n",
      "Para voto nulo tecle 5 \n",
      "Para voto em branco tecle 6 \n",
      "5\n",
      "Insira o número correspondente ao seu voto, para candidatos 1,2.3 ou 4. \n",
      "Para voto nulo tecle 5 \n",
      "Para voto em branco tecle 6 \n",
      "2\n",
      "Insira o número correspondente ao seu voto, para candidatos 1,2.3 ou 4. \n",
      "Para voto nulo tecle 5 \n",
      "Para voto em branco tecle 6 \n",
      "3\n",
      "Insira o número correspondente ao seu voto, para candidatos 1,2.3 ou 4. \n",
      "Para voto nulo tecle 5 \n",
      "Para voto em branco tecle 6 \n",
      "1\n",
      "Insira o número correspondente ao seu voto, para candidatos 1,2.3 ou 4. \n",
      "Para voto nulo tecle 5 \n",
      "Para voto em branco tecle 6 \n",
      "4\n",
      "total de votos do candidato 1: 5\n",
      "total de votos do candidato 2: 5\n",
      "total de votos do candidato 3: 2\n",
      "total de votos do candidato 4: 3\n",
      "total de votos nulos: 4\n",
      "total de votos em branco: 1\n",
      "Percentual de votos nulos: 20.0\n",
      "Percentual de votos em branco: 5.0\n"
     ]
    }
   ],
   "source": [
    "\n",
    "op_1 = 0\n",
    "op_2 = 0\n",
    "op_3 = 0\n",
    "op_4 = 0\n",
    "op_5 = 0\n",
    "op_6 = 0\n",
    "\n",
    "for i in range(0,20):\n",
    "  voto = int(input('Insira o número correspondente ao seu voto, para candidatos 1,2.3 ou 4. \\nPara voto nulo tecle 5 \\nPara voto em branco tecle 6 \\n'))\n",
    "  if voto == 1:\n",
    "    op_1 += 1\n",
    "  elif voto == 2:\n",
    "    op_2 += 1\n",
    "  elif voto == 3:\n",
    "    op_3 += 1\n",
    "  elif voto == 4:\n",
    "    op_4 += 1\n",
    "  elif voto == 5:\n",
    "    op_5 += 1\n",
    "  elif voto == 6:\n",
    "    op_6 += 1\n",
    "  else:\n",
    "    print('voto inválido')\n",
    "\n",
    "print(f'total de votos do candidato 1: {op_1}')\n",
    "print(f'total de votos do candidato 2: {op_2}')\n",
    "print(f'total de votos do candidato 3: {op_3}')\n",
    "print(f'total de votos do candidato 4: {op_4}')\n",
    "print(f'total de votos nulos: {op_5}')\n",
    "print(f'total de votos em branco: {op_6}')\n",
    "print(f'Percentual de votos nulos: {(op_5 / 20 * 100)}')\n",
    "print(f'Percentual de votos em branco: {(op_6 / 20 * 100)}')"
   ]
  }
 ],
 "metadata": {
  "language_info": {
   "name": "python"
  }
 },
 "nbformat": 4,
 "nbformat_minor": 2
}
