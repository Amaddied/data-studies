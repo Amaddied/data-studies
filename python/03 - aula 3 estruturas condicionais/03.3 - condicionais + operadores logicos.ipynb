{
 "cells": [
  {
   "cell_type": "markdown",
   "metadata": {},
   "source": [
    "## Aula 3 - Estruturas condicionais"
   ]
  },
  {
   "cell_type": "markdown",
   "metadata": {},
   "source": [
    "#### Questão 1\n",
    "Escreva um programa que peça à pessoa usuária para fornecer dois números e exibir o número maior."
   ]
  },
  {
   "cell_type": "code",
   "execution_count": null,
   "metadata": {},
   "outputs": [
    {
     "name": "stdout",
     "output_type": "stream",
     "text": [
      "insira o primeiro número: 2\n",
      "insira o segundo número: 46\n",
      "o segundo número é maior: 46\n"
     ]
    }
   ],
   "source": [
    "n1 = int(input('insira o primeiro número: '))\n",
    "n2 = int(input('insira o segundo número: '))\n",
    "if n1 > n2:\n",
    "  print(f'o primeiro número é maior: {n1}')\n",
    "elif n2 > n1:\n",
    "  print(f'o segundo número é maior: {n2}')\n",
    "else:\n",
    "  print('os dois números são iguais')"
   ]
  },
  {
   "cell_type": "markdown",
   "metadata": {},
   "source": [
    "#### Questão 2\n",
    "Escreva um programa que solicite o percentual de crescimento de produção de uma empresa e informe se houve um crescimento (porcentagem positiva) ou decrescimento (porcentagem negativa)."
   ]
  },
  {
   "cell_type": "code",
   "execution_count": null,
   "metadata": {},
   "outputs": [
    {
     "name": "stdout",
     "output_type": "stream",
     "text": [
      "Digite o percentual de crescimento: 5\n",
      "Houve um crescimento de 5.0%\n"
     ]
    }
   ],
   "source": [
    "#resposta da instrutora\n",
    "# Coleta do percentual\n",
    "variacao = float(input('Digite o percentual de crescimento: '))\n",
    "\n",
    "# Verifica se o valor é positivo ou negativo com uma verificação se o número\n",
    "# é maior ou menor que 0\n",
    "if variacao > 0:\n",
    "    print(f'Houve um crescimento de {variacao}%')\n",
    "elif variacao < 0:\n",
    "    print(f'Houve um decrescimento de {variacao}%')\n",
    "else:\n",
    "    print('Não houve crescimento ou decrescimento.')\n"
   ]
  },
  {
   "cell_type": "markdown",
   "metadata": {},
   "source": [
    "#### Questão 3\n",
    "Escreva um programa que determine se uma letra fornecida pela pessoa usuária é uma vogal ou consoante."
   ]
  },
  {
   "cell_type": "code",
   "execution_count": null,
   "metadata": {},
   "outputs": [
    {
     "name": "stdout",
     "output_type": "stream",
     "text": [
      "digite uma letra: b\n",
      "A letra digitada é uma consoante\n"
     ]
    }
   ],
   "source": [
    "letra = input('digite uma letra: ').lower()\n",
    "vogais ='aeiou'\n",
    "if letra in vogais:\n",
    "  print('A letra digitada é uma vogal')\n",
    "else:\n",
    "  print('A letra digitada é uma consoante')"
   ]
  },
  {
   "cell_type": "markdown",
   "metadata": {},
   "source": [
    "#### Questão 4\n",
    "Escreva um programa que leia valores médios de preços de um modelo de carro por 3 anos consecutivos e exiba o valor mais alto e mais baixo entre esses três anos."
   ]
  },
  {
   "cell_type": "code",
   "execution_count": null,
   "metadata": {},
   "outputs": [
    {
     "name": "stdout",
     "output_type": "stream",
     "text": [
      "insira o valor do carro no primeiro ano: 25000\n",
      "insira o valor do carro no segundo ano: 30000\n",
      "insira o valor do carro no terceiro ano: 27000\n",
      "O valor mais alto foi: 30000.0\n",
      "O valor mais baixo foi: 25000.0\n"
     ]
    }
   ],
   "source": [
    "preco1 = float(input('insira o valor do carro no primeiro ano: '))\n",
    "preco2 = float(input('insira o valor do carro no segundo ano: '))\n",
    "preco3 = float(input('insira o valor do carro no terceiro ano: '))\n",
    "if preco1 > preco2 and preco1>preco3:\n",
    "  print(f'O valor mais alto foi: {preco1}')\n",
    "elif preco2 > preco3:\n",
    "  print(f'O valor mais alto foi: {preco2}')\n",
    "else:\n",
    "  print(f'O valor mais alto foi: {preco3}')\n",
    "if preco1 < preco2 and preco1<preco3:\n",
    "  print(f'O valor mais baixo foi: {preco1}')\n",
    "elif preco2 < preco3:\n",
    "  print(f'O valor mais baixo foi: {preco2}')\n",
    "else:\n",
    "  print(f'O valor mais baixoo foi: {preco3}')\n"
   ]
  },
  {
   "cell_type": "code",
   "execution_count": null,
   "metadata": {},
   "outputs": [],
   "source": [
    "#resolução da instrutora\n",
    "# Coletamos os preços dos 3 anos\n",
    "preco_ano1 = float(input('Informe o preço médio do carro no primeiro ano: '))\n",
    "preco_ano2 = float(input('Informe o preço médio do carro no segundo ano: '))\n",
    "preco_ano3 = float(input('Informe o preço médio do carro no terceiro ano: '))\n",
    "\n",
    "# Determinamos o maior valor através de comparações\n",
    "maior = preco_ano1\n",
    "if preco_ano2 > maior:\n",
    "  maior = preco_ano2\n",
    "if preco_ano3 > maior:\n",
    "  maior = preco_ano3\n",
    "\n",
    "# Determinamos o menor valor através de comparações\n",
    "menor = preco_ano1\n",
    "if preco_ano2 < menor:\n",
    "  menor = preco_ano2\n",
    "if preco_ano3 < menor:\n",
    "  menor = preco_ano3\n",
    "\n",
    "# Mostramos o resultado\n",
    "print(f'O preço mais alto foi de R$ {maior}.')\n",
    "print(f'O preço mais baixo foi de R$ {menor}.')\n"
   ]
  },
  {
   "cell_type": "markdown",
   "metadata": {},
   "source": [
    "#### Questão 5\n",
    "Escreva um programa que pergunte sobre o preço de três produtos e indique qual é o produto mais barato para comprar."
   ]
  },
  {
   "cell_type": "code",
   "execution_count": null,
   "metadata": {},
   "outputs": [
    {
     "name": "stdout",
     "output_type": "stream",
     "text": [
      "qual o preço do produto 1? 25\n",
      "qual o preço do produto 2? 26\n",
      "qual o preço do produto 3? 24\n",
      "o terceiro produto é o mais barato\n"
     ]
    }
   ],
   "source": [
    "preco_prod1 = float(input('qual o preço do produto 1? '))\n",
    "preco_prod2 = float(input('qual o preço do produto 2? '))\n",
    "preco_prod3 = float(input('qual o preço do produto 3? '))\n",
    "#determinando o menor\n",
    "if preco_prod1 < preco_prod2 and preco_prod1 < preco_prod3:\n",
    "  print('o primeiro produto é o mais barato')\n",
    "elif preco_prod2 < preco_prod3 and preco_prod2 < preco_prod1:\n",
    "  print('o segundo produto é o mais barato')\n",
    "else:\n",
    "  print('o terceiro produto é o mais barato')"
   ]
  },
  {
   "cell_type": "markdown",
   "metadata": {},
   "source": [
    "#### Questão 6\n",
    "Escreva um programa que leia três números e os exiba em ordem decrescente."
   ]
  },
  {
   "cell_type": "code",
   "execution_count": null,
   "metadata": {},
   "outputs": [
    {
     "name": "stdout",
     "output_type": "stream",
     "text": [
      "insira o primeiro número5\n",
      "insira o segundo número15\n",
      "insira o terceiro número14\n",
      "5.0 15.0 14.0\n",
      "15.0 14.0 5.0\n"
     ]
    }
   ],
   "source": [
    "n1 = float(input('insira o primeiro número'))\n",
    "n2 = float(input('insira o segundo número'))\n",
    "n3 = float(input('insira o terceiro número'))\n",
    "\n",
    "#resolução da internet\n",
    "print(n1, n2, n3)\n",
    "if n3 > n2:\n",
    "  aux = n3\n",
    "  n3 = n2\n",
    "  n2 = aux\n",
    "if n2 > n1:\n",
    "  aux = n2\n",
    "  n2 = n1\n",
    "  n1 = aux\n",
    "if n3 > n2:\n",
    "  aux = n3\n",
    "  n3 = n2\n",
    "  n2 = aux\n",
    "print(n1, n2, n3)"
   ]
  },
  {
   "cell_type": "code",
   "execution_count": null,
   "metadata": {},
   "outputs": [
    {
     "name": "stdout",
     "output_type": "stream",
     "text": [
      "Informe o primeiro número: 80\n",
      "Informe o segundo número: 79\n",
      "Informe o terceiro número: 81\n",
      "81\n",
      "80\n",
      "79\n"
     ]
    }
   ],
   "source": [
    "#resolução da instrutora\n",
    "# Coletamos os 3 números\n",
    "num1 = int(input('Informe o primeiro número: '))\n",
    "num2 = int(input('Informe o segundo número: '))\n",
    "num3 = int(input('Informe o terceiro número: '))\n",
    "\n",
    "# Comparação entre os 3 números\n",
    "if (num1 >= num2) and (num1 >= num3):\n",
    "    print(num1)\n",
    "    if num2 >= num3:\n",
    "        print(num2)\n",
    "        print(num3)\n",
    "    else:\n",
    "        print(num3)\n",
    "        print(num2)\n",
    "elif (num2 >= num1) and (num2 >= num3):\n",
    "    print(num2)\n",
    "    if num1 >= num3:\n",
    "        print(num1)\n",
    "        print(num3)\n",
    "    else:\n",
    "        print(num3)\n",
    "        print(num1)\n",
    "else:\n",
    "    print(num3)\n",
    "    if num1 >= num2:\n",
    "        print(num1)\n",
    "        print(num2)\n",
    "    else:\n",
    "        print(num2)\n",
    "        print(num1)\n"
   ]
  },
  {
   "cell_type": "markdown",
   "metadata": {},
   "source": [
    "#### Questão 7\n",
    "Escreva um programa que pergunte em qual turno a pessoa usuária estuda (\"manhã\", \"tarde\" ou \"noite\") e exiba a mensagem \"Bom Dia!\", \"Boa Tarde!\", \"Boa Noite!\", ou \"Valor Inválido!\", conforme o caso."
   ]
  },
  {
   "cell_type": "code",
   "execution_count": null,
   "metadata": {},
   "outputs": [
    {
     "name": "stdout",
     "output_type": "stream",
     "text": [
      "Em qual turno você estuda: manhã\n",
      "Bom dia!\n"
     ]
    }
   ],
   "source": [
    "turno = input(\"Em qual turno você estuda: \").lower().strip()\n",
    "if turno == 'manhã':\n",
    "  print('Bom dia!')\n",
    "if turno == 'tarde':\n",
    "  print('Boa Tarde!')\n",
    "if turno == 'noite':\n",
    "  print('Boa Noite!')"
   ]
  },
  {
   "cell_type": "code",
   "execution_count": null,
   "metadata": {},
   "outputs": [
    {
     "name": "stdout",
     "output_type": "stream",
     "text": [
      "Em qual turno você estuda, manha, tarde ou noite? manhã\n",
      "Bom dia!\n"
     ]
    }
   ],
   "source": [
    "turno = input(\"Em qual turno você estuda, manha, tarde ou noite? \").lower().strip()\n",
    "if turno in 'manhã':\n",
    "  print('Bom dia!')\n",
    "if turno in 'tarde':\n",
    "  print('Boa Tarde!')\n",
    "if turno in 'noite':\n",
    "  print('Boa Noite!')"
   ]
  },
  {
   "cell_type": "code",
   "execution_count": null,
   "metadata": {},
   "outputs": [],
   "source": [
    "#resolução da instrutora\n",
    "# Coletamos o turno de estudo\n",
    "turno = input('Digite em qual turno você estuda (manhã, tarde ou noite): ')\n",
    "\n",
    "# Comparamos a entrada com todas as opções e imprimimos o resultado.\n",
    "if turno == 'manhã':\n",
    "  print('Bom Dia!')\n",
    "elif turno == 'tarde':\n",
    "  print('Boa Tarde!')\n",
    "elif turno == 'noite':\n",
    "  print('Boa Noite!')\n",
    "else:\n",
    "  print('Valor Inválido!')\n"
   ]
  },
  {
   "cell_type": "markdown",
   "metadata": {},
   "source": [
    "#### Questão 8\n",
    "Escreva um programa que peça um número inteiro à pessoa usuária e determine se ele é par ou ímpar. Dica: Você pode utilizar o operador módulo `%`."
   ]
  },
  {
   "cell_type": "code",
   "execution_count": null,
   "metadata": {},
   "outputs": [
    {
     "name": "stdout",
     "output_type": "stream",
     "text": [
      "Insira um número 5\n",
      "o número é impar\n"
     ]
    }
   ],
   "source": [
    "n = int(input('Insira um número '))\n",
    "if (n%2 == 0):\n",
    "  print('o número é par')\n",
    "else:\n",
    "  print('o número é impar')"
   ]
  },
  {
   "cell_type": "markdown",
   "metadata": {},
   "source": [
    "#### Questão 9\n",
    "Escreva um programa que peça um número à pessoa usuária e informe se ele é inteiro ou decimal."
   ]
  },
  {
   "cell_type": "code",
   "execution_count": null,
   "metadata": {},
   "outputs": [
    {
     "name": "stdout",
     "output_type": "stream",
     "text": [
      "Insira um número 2.5\n",
      "o número é decimal\n"
     ]
    }
   ],
   "source": [
    "n = float(input('Insira um número '))\n",
    "if (n%1 == 0):\n",
    "  print('o número é inteiro')\n",
    "else:\n",
    "  print('o número é decimal')"
   ]
  },
  {
   "cell_type": "markdown",
   "metadata": {},
   "source": [
    "### Momento dos projetos"
   ]
  },
  {
   "cell_type": "markdown",
   "metadata": {},
   "source": [
    "#### Questão 10\n",
    "Um programa deve ser escrito para ler dois números e, em seguida, perguntar à pessoa usuária qual operação ele deseja realizar. O resultado da operação deve incluir informações sobre o número - se é par ou ímpar, positivo ou negativo e inteiro ou decimal."
   ]
  },
  {
   "cell_type": "code",
   "execution_count": null,
   "metadata": {},
   "outputs": [
    {
     "name": "stdout",
     "output_type": "stream",
     "text": [
      "insira o primeiro número 5\n",
      "insira o segundo número 2\n",
      "\n",
      "Digite o número equivalente à operaçao dejesada: \n",
      "1- Soma \n",
      "2- Subtração \n",
      "3 - Multiplicaçao \n",
      "4 - divisão \n",
      "5 - potenciação3\n",
      "\n",
      "o resultado é: 10.0\n",
      "O resultado é par\n",
      "o resultado é positivo\n",
      "O resultado é inteiro\n"
     ]
    }
   ],
   "source": [
    "n1 = float(input('insira o primeiro número '))\n",
    "n2 = float(input('insira o segundo número '))\n",
    "op = int(input('\\nDigite o número equivalente à operaçao dejesada: \\n1- Soma \\n2- Subtração \\n3 - Multiplicaçao \\n4 - divisão \\n5 - potenciação'))\n",
    "\n",
    "if op == 1:\n",
    "  res = (n1+n3)\n",
    "  print(f'\\no resultado é: {res}')\n",
    "  if res%2 == 0:\n",
    "    print('O resultado é par')\n",
    "  else:\n",
    "    print('o resultado é impar')\n",
    "  if res < 0:\n",
    "    print('o resultado é negativo')\n",
    "  else:\n",
    "    print('o resultado é positivo')\n",
    "  if res%1 == 0:\n",
    "    print('O resultado é inteiro')\n",
    "  else:\n",
    "    print('o resultado é decimal')\n",
    "\n",
    "elif op == 2:\n",
    "  res = (n1-n2)\n",
    "  print(f'\\no resultado é: {res}')\n",
    "  if res%2 == 0:\n",
    "    print('O resultado é par')\n",
    "  else:\n",
    "    print('o resultado é impar')\n",
    "  if res < 0:\n",
    "    print('o resultado é negativo')\n",
    "  else:\n",
    "    print('o resultado é positivo')\n",
    "  if res%1 == 0:\n",
    "    print('O resultado é inteiro')\n",
    "  else:\n",
    "    print('o resultado é decimal')\n",
    "\n",
    "elif op == 3:\n",
    "  res = (n1*n2)\n",
    "  print(f'\\no resultado é: {res}')\n",
    "  if res%2 == 0:\n",
    "    print('O resultado é par')\n",
    "  else:\n",
    "    print('o resultado é impar')\n",
    "  if res < 0:\n",
    "    print('o resultado é negativo')\n",
    "  else:\n",
    "    print('o resultado é positivo')\n",
    "  if res%1 == 0:\n",
    "    print('O resultado é inteiro')\n",
    "  else:\n",
    "    print('o resultado é decimal')\n",
    "\n",
    "elif op == 4:\n",
    "  res = (n1/n2)\n",
    "  print(f'\\no resultado é: {res}')\n",
    "  if res%2 == 0:\n",
    "    print('O resultado é par')\n",
    "  else:\n",
    "    print('o resultado é impar')\n",
    "  if res < 0:\n",
    "    print('o resultado é negativo')\n",
    "  else:\n",
    "    print('o resultado é positivo')\n",
    "  if res%1 == 0:\n",
    "    print('O resultado é inteiro')\n",
    "  else:\n",
    "    print('o resultado é decimal')\n",
    "\n",
    "elif op == 5:\n",
    "  res = (n1**n2)\n",
    "  print(f'\\no resultado é: {res}')\n",
    "  if res%2 == 0:\n",
    "    print('O resultado é par')\n",
    "  else:\n",
    "    print('o resultado é impar')\n",
    "  if res < 0:\n",
    "    print('o resultado é negativo')\n",
    "  else:\n",
    "    print('o resultado é positivo')\n",
    "  if res%1 == 0:\n",
    "    print('O resultado é inteiro')\n",
    "  else:\n",
    "    print('o resultado é decimal')\n",
    "\n",
    "else:\n",
    "  print('entrada inválida')"
   ]
  },
  {
   "cell_type": "code",
   "execution_count": null,
   "metadata": {},
   "outputs": [],
   "source": [
    "\n",
    "# Coletamos os números a serem operados e solicitamos a operação desejada pela pessoa usuária\n",
    "num1 = float(input('Informe o primeiro número: '))\n",
    "num2 = float(input('Informe o segundo número: '))\n",
    "operacao = input('Informe a operação desejada (+, -, *, /): ')\n",
    "\n",
    "# Verificamos o operador que foi selecionado e executa a operação matemática conforme a seleção\n",
    "if operacao == '+':\n",
    "    resultado = num1 + num2\n",
    "elif operacao == '-':\n",
    "    resultado = num1 - num2\n",
    "elif operacao == '*':\n",
    "    resultado = num1 * num2\n",
    "elif operacao == '/':\n",
    "    resultado = num1 / num2\n",
    "else: # Especificamos um resultado caso a pessoa usuária não digite alguma das operações corretamente.\n",
    "    print('Operação inválida, resultado da operação será 0')\n",
    "    resultado = 0\n",
    "\n",
    "#  Fazemos as mesmas verificações das questões anteriores para fazer o relatório do cálculo entre números\n",
    "if resultado % 1 == 0:\n",
    "    print('O resultado é inteiro.')\n",
    "else:\n",
    "    print('O resultado é decimal.')\n",
    "\n",
    "if resultado > 0:\n",
    "    print('O resultado é positivo.')\n",
    "elif resultado == 0:\n",
    "    print('O resultado é neutro.')\n",
    "else:\n",
    "    print('O resultado é negativo.')\n",
    "\n",
    "if resultado % 2 == 0:\n",
    "    print('O resultado é par.')\n",
    "else:\n",
    "    print('O resultado é ímpar.')\n"
   ]
  },
  {
   "cell_type": "markdown",
   "metadata": {},
   "source": [
    "#### Questão 11\n",
    "Escreva um programa que peça à pessoa usuária três números que representam os lados de um triângulo. O programa deve informar se os valores podem ser utilizados para formar um triângulo e, caso afirmativo, se ele é equilátero, isósceles ou escaleno. Tenha em mente algumas dicas:\n",
    "- Três lados formam um triângulo quando a soma de quaisquer dois lados for maior que o terceiro;\n",
    "- Triângulo Equilátero: três lados iguais;\n",
    "- Triângulo Isósceles: quaisquer dois lados iguais;\n",
    "- Triângulo Escaleno: três lados diferentes;\n"
   ]
  },
  {
   "cell_type": "code",
   "execution_count": null,
   "metadata": {},
   "outputs": [
    {
     "name": "stdout",
     "output_type": "stream",
     "text": [
      "digite o lado 1 do triangulo 2\n",
      "digite o lado 2 do triangulo 3\n",
      "digite o lado 3 do triangulo 4\n",
      "é possivel formar um triangulo\n",
      "é um triangulo escaleno\n"
     ]
    }
   ],
   "source": [
    "n1 = float(input('digite o lado 1 do triangulo '))\n",
    "n2 = float(input('digite o lado 2 do triangulo '))\n",
    "n3 = float(input('digite o lado 3 do triangulo '))\n",
    "\n",
    "#verificar se é possivel formar um triangulo\n",
    "if (n1+n2 > 3) and (n1+n3 > n2) and (n2 + n3 > n1):\n",
    "  print('é possivel formar um triangulo')\n",
    "  #em caso positivo imprimir o tipo do triangulo\n",
    "  if n1 == n2 == n3:\n",
    "    print('é um triangulo equilatero')\n",
    "  elif (n1 == n2) and (n1 != n3):\n",
    "    print('é um triangulo isosceles')\n",
    "  elif(n2 == n3) and (n3 != n1):\n",
    "    print('é um triangulo isosceles')\n",
    "  else:\n",
    "    print('é um triangulo escaleno')\n",
    "\n",
    "else:\n",
    "  print('não é possivel formar um triangulo')\n",
    "\n"
   ]
  },
  {
   "cell_type": "code",
   "execution_count": null,
   "metadata": {},
   "outputs": [
    {
     "name": "stdout",
     "output_type": "stream",
     "text": [
      "Coletaremos os lados de um triângulo.\n",
      "Digite o comprimento do primeiro lado: 1\n",
      "Digite o comprimento do segundo lado: 2\n",
      "Digite o comprimento do terceiro lado: 3\n",
      "Os valores não podem formar um triângulo!\n"
     ]
    }
   ],
   "source": [
    "\n",
    "# Coletamos os lados de um triângulo\n",
    "print('Coletaremos os lados de um triângulo.')\n",
    "lado1 = float(input('Digite o comprimento do primeiro lado: '))\n",
    "lado2 = float(input('Digite o comprimento do segundo lado: '))\n",
    "lado3 = float(input('Digite o comprimento do terceiro lado: '))\n",
    "\n",
    "# Verificamos de os lados formam um triângulo\n",
    "if (lado1 + lado2 > lado3) and (lado2 + lado3 > lado1) and (lado1 + lado3 > lado2):\n",
    "    print('Os valores podem formar um triângulo!')\n",
    "    # comparamos os lados para verificar o tipo de triângulo\n",
    "    if (lado1 == lado2) and (lado2 == lado3):\n",
    "        print('O triângulo é equilátero.')\n",
    "    elif (lado1 != lado2) and (lado2 != lado3) and (lado1 != lado3):\n",
    "        print('O triângulo é escaleno.')\n",
    "    else:\n",
    "        print('O triângulo é isósceles.')\n",
    "else:\n",
    "    print('Os valores não podem formar um triângulo!')\n"
   ]
  },
  {
   "cell_type": "markdown",
   "metadata": {},
   "source": [
    "#### Questão 12\n",
    "Um estabelecimento está vendendo combustíveis com descontos variados. Para o etanol, se a quantidade comprada for até 15 litros, o desconto será de 2% por litro. Caso contrário, será de 4% por litro. Para o diesel, se a quantidade comprada for até 15 litros, o desconto será de 3% por litro. Caso contrário, será de 5% por litro. O preço do litro de diesel é R\\$ 2,00 e o preço do litro de etanol é R\\$ 1,70. Escreva um programa que leia a quantidade de litros vendidos e o tipo de combustível (E para etanol e D para diesel) e calcule o valor a ser pago pelo cliente. Tenha em mente algumas dicas:\n",
    "\n",
    "- O do valor do desconto será a multiplicação entre preço do litro, quantidade de litros e o valor do desconto.\n",
    "- O valor a ser pago por um cliente será o resultado da multiplicação do preço do litro pela quantidade de litros menos o valor de desconto resultante do cálculo.\n"
   ]
  },
  {
   "cell_type": "code",
   "execution_count": null,
   "metadata": {},
   "outputs": [
    {
     "name": "stdout",
     "output_type": "stream",
     "text": [
      "Quantos litros você deseja comprar? 15\n",
      "Qual o tipo de combustivel que você deseja?\n",
      " E para etanol \n",
      "D para diesel D\n",
      "Valor total a ser pago por 15.0 litros é de R$29.97\n"
     ]
    }
   ],
   "source": [
    "qntd_combustivel = float(input('Quantos litros você deseja comprar? '))\n",
    "tipo_combustivel = input('Qual o tipo de combustivel que você deseja?\\n E para etanol \\nD para diesel ')\n",
    "\n",
    "#para o etanol\n",
    "if tipo_combustivel == 'E':\n",
    "  preco_litro = 1.70\n",
    "  if qntd_combustivel <= 15:\n",
    "    desconto = 0.02\n",
    "  else:\n",
    "    desconto = 0.04\n",
    "elif tipo_combustivel == 'D':\n",
    "  preco_litro = 2.0\n",
    "  if qntd_combustivel <= 15:\n",
    "    desconto = 0.03\n",
    "  else:\n",
    "    desconto = 0.05\n",
    "else:\n",
    "    print('Entradas inválidas!')\n",
    "    preco_litro = 0\n",
    "    desconto = 0\n",
    "\n",
    "valor_desconto = preco_litro*qntd_combustivel*desconto\n",
    "total_pago = (qntd_combustivel*preco_litro)-desconto\n",
    "print(f'Valor total a ser pago por {qntd_combustivel} litros é de R${total_pago}')"
   ]
  },
  {
   "cell_type": "markdown",
   "metadata": {},
   "source": [
    "#### Questão 13\n",
    "Em uma empresa de venda de imóveis você precisa criar um código que analise os dados de vendas anuais para ajudar a diretoria na tomada de decisão. O código precisa coletar os dados de quantidade de venda durante os anos de 2022 e 2023 e fazer um cálculo de variação percentual. A partir do valor da variação, deve ser enviada às seguintes sugestões:\n",
    "- Para variação acima de 20%: bonificação para o time de vendas.\n",
    "- Para variação entre 2% e 20%: pequena bonificação para time de vendas.\n",
    "- Para variação entre 2% e -10%: planejamento de políticas de incentivo às vendas.\n",
    "- Para bonificações abaixo de -10%: corte de gastos.\n"
   ]
  },
  {
   "cell_type": "code",
   "execution_count": null,
   "metadata": {},
   "outputs": [
    {
     "name": "stdout",
     "output_type": "stream",
     "text": [
      "Qual o total de vendas no ano de 2022: 50000\n",
      "Qual o total de vendas no ano de 2023: 25000\n",
      "Bonificação para o time de vendas!\n"
     ]
    }
   ],
   "source": [
    "venda_2022 = float(input('Qual o total de vendas no ano de 2022: '))\n",
    "venda_2023 = float(input('Qual o total de vendas no ano de 2023: '))\n",
    "\n",
    "#calculo da variação percentual\n",
    "variacao = (venda_2022 - venda_2023)/(venda_2022) * 100\n",
    "if variacao > 20:\n",
    "  print('Bonificação para o time de vendas!')\n",
    "elif 2 <= var_percentual <= 20:\n",
    "  print('Pequena bonificação para o time de vendas')\n",
    "elif -10 <= var_percentual < 2:\n",
    "  print('Planejamento de politicas de incentivo às vendas')\n",
    "else:\n",
    "  print('Corte de gastos.')"
   ]
  }
 ],
 "metadata": {
  "language_info": {
   "name": "python"
  }
 },
 "nbformat": 4,
 "nbformat_minor": 2
}
