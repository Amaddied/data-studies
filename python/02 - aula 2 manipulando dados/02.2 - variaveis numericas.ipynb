{
 "cells": [
  {
   "cell_type": "markdown",
   "metadata": {},
   "source": [
    "### Variáveis numéricas\n",
    "\n",
    "Entre os tipos de dados numéricos vamos nos focar no tipo `inteiro` e `float`."
   ]
  },
  {
   "cell_type": "markdown",
   "metadata": {},
   "source": [
    "Temos uma tabela de informação de empregos quanto ao cargo, quantidade de pessoas empregadas e o salário correspondente:\n",
    "\n",
    "|Cargo | Quantidade | Salário|\n",
    "|---|---|---|\n",
    "|Segurança | 5 | 3000 |\n",
    "|Docente | 16| 6000|\n",
    "|Diretoria| 1 |12500|\n",
    "\n",
    "Precisamos trabalhar com esses dados fornecendo:\n",
    "\n",
    "- A quantidade total de empregados;\n",
    "- A diferença entre o salário mais baixo e mais alto; e\n",
    "- A média ponderada da faixa salarial da escola."
   ]
  },
  {
   "cell_type": "code",
   "execution_count": null,
   "metadata": {},
   "outputs": [],
   "source": [
    "q_seguranca = 5\n",
    "s_seguranca = 3000\n",
    "\n",
    "q_docente = 16\n",
    "s_docente = 6000\n",
    "\n",
    "q_diretoria = 1\n",
    "s_diretoria = 12500"
   ]
  },
  {
   "cell_type": "code",
   "execution_count": null,
   "metadata": {},
   "outputs": [
    {
     "data": {
      "text/plain": [
       "22"
      ]
     },
     "metadata": {},
     "output_type": "display_data"
    }
   ],
   "source": [
    "total_empregados = q_seguranca + q_docente + q_diretoria\n",
    "total_empregados"
   ]
  },
  {
   "cell_type": "code",
   "execution_count": null,
   "metadata": {},
   "outputs": [
    {
     "data": {
      "text/plain": [
       "9500"
      ]
     },
     "metadata": {},
     "output_type": "display_data"
    }
   ],
   "source": [
    "diferenca_salario = s_diretoria - s_seguranca\n",
    "diferenca_salario\n"
   ]
  },
  {
   "cell_type": "code",
   "execution_count": null,
   "metadata": {},
   "outputs": [
    {
     "data": {
      "text/plain": [
       "5613.636363636364"
      ]
     },
     "metadata": {},
     "output_type": "display_data"
    }
   ],
   "source": [
    "media = (q_seguranca*s_seguranca + q_docente*s_docente + q_diretoria*s_diretoria) / (total_empregados)\n",
    "media\n"
   ]
  },
  {
   "cell_type": "markdown",
   "metadata": {},
   "source": [
    "### Calculadora com operadores"
   ]
  },
  {
   "cell_type": "markdown",
   "metadata": {},
   "source": [
    "#### Questão 1\n",
    "\n",
    "Crie um programa que solicite dois valores numéricos à pessoa usuária e imprima a soma dos dois valores."
   ]
  },
  {
   "cell_type": "code",
   "execution_count": null,
   "metadata": {},
   "outputs": [
    {
     "name": "stdout",
     "output_type": "stream",
     "text": [
      "insira o primeiro número: 3\n",
      "insira o segundo número: 3\n",
      "6\n"
     ]
    }
   ],
   "source": [
    "n1 = int(input('insira o primeiro número: '))\n",
    "n2 = int(input('insira o segundo número: '))\n",
    "print(n1+n2)"
   ]
  },
  {
   "cell_type": "markdown",
   "metadata": {},
   "source": [
    "#### Questão 2\n",
    "Crie um programa que solicite três valores numéricos à pessoa usuária e imprima a soma dos três valores."
   ]
  },
  {
   "cell_type": "code",
   "execution_count": null,
   "metadata": {},
   "outputs": [
    {
     "name": "stdout",
     "output_type": "stream",
     "text": [
      "Digite o primeiro número2\n",
      "Digite o segundo número5\n",
      "Digite o terceiro número3\n",
      "A soma dos 3 números é: 10\n"
     ]
    }
   ],
   "source": [
    "n1 = int(input('Digite o primeiro número'))\n",
    "n2 = int(input('Digite o segundo número'))\n",
    "n3 = int(input('Digite o terceiro número'))\n",
    "print(n1+n2+n3)"
   ]
  },
  {
   "cell_type": "markdown",
   "metadata": {},
   "source": [
    "#### Questão 3\n",
    "Crie um programa que solicite dois valores numéricos à pessoa usuária e imprima a subtração do primeiro pelo o segundo valor."
   ]
  },
  {
   "cell_type": "code",
   "execution_count": null,
   "metadata": {},
   "outputs": [
    {
     "name": "stdout",
     "output_type": "stream",
     "text": [
      "Digite o primeiro número10\n",
      "Digite o segundo número5\n",
      "A subtração de 10 por 5 é igual à: 5\n"
     ]
    }
   ],
   "source": [
    "n1 = int(input('Digite o primeiro número '))\n",
    "n2 = int(input('Digite o segundo número '))\n",
    "print(n1-n2)"
   ]
  },
  {
   "cell_type": "markdown",
   "metadata": {},
   "source": [
    "#### Questão 4\n",
    "\n",
    "Crie um programa que solicite dois valores numéricos à pessoa usuária e imprima a multiplicação dos dois valores.\n"
   ]
  },
  {
   "cell_type": "code",
   "execution_count": null,
   "metadata": {},
   "outputs": [
    {
     "name": "stdout",
     "output_type": "stream",
     "text": [
      "Digite o primeiro número 3\n",
      "Digite o segundo número 7\n",
      "A multiplicação dos dois valores é 21\n"
     ]
    }
   ],
   "source": [
    "n1 = int(input('Digite o primeiro número '))\n",
    "n2 = int(input('Digite o segundo número '))\n",
    "print(n1*n2)"
   ]
  },
  {
   "cell_type": "markdown",
   "metadata": {},
   "source": [
    "#### Questão 5\n",
    "\n",
    "Crie um programa que solicite dois valores numéricos, um numerador e um denominador, e realize a divisão entre os dois valores. Deixe claro que o valor do denominador não pode ser `0`.\n"
   ]
  },
  {
   "cell_type": "code",
   "execution_count": null,
   "metadata": {},
   "outputs": [
    {
     "name": "stdout",
     "output_type": "stream",
     "text": [
      "Digite o numerador, ele deve ser um valor diferente de zero: 15\n",
      "Digite o denominador, ele deve ser um valor diferente de zero: 3\n",
      "O resultado da divisão é 5.0\n"
     ]
    }
   ],
   "source": [
    "n1 = float(input('Digite o numerador, ele deve ser um valor diferente de zero: '))\n",
    "n2 = float(input('Digite o denominador, ele deve ser um valor diferente de zero: '))\n",
    "print(n1/n2)"
   ]
  },
  {
   "cell_type": "markdown",
   "metadata": {},
   "source": [
    "#### Questão 6\n",
    "\n",
    "Crie um programa que solicite dois valores numéricos, um operador e uma potência, e realize a exponenciação entre esses dois valores.\n"
   ]
  },
  {
   "cell_type": "code",
   "execution_count": null,
   "metadata": {},
   "outputs": [
    {
     "name": "stdout",
     "output_type": "stream",
     "text": [
      "Digite o operador 2\n",
      "Digite a potênia3\n",
      "2 elevado à 3.0, é igual à 8.0\n"
     ]
    }
   ],
   "source": [
    "n1 = int(input('Digite o operador '))\n",
    "n2 = int(input('Digite a potênia'))\n",
    "print(n1**n2)"
   ]
  },
  {
   "cell_type": "markdown",
   "metadata": {},
   "source": [
    "#### Questão 7\n",
    "Crie um programa que solicite dois valores numéricos, um numerador e um denominador e realize a divisão inteira entre os dois valores. Deixe claro que o valor do denominador não pode ser `0`."
   ]
  },
  {
   "cell_type": "code",
   "execution_count": null,
   "metadata": {},
   "outputs": [
    {
     "name": "stdout",
     "output_type": "stream",
     "text": [
      "Digite o numerador, ele deve ser um valor diferente de zero: 7\n",
      "Digite o denominador, ele deve ser um valor diferente de zero: 3\n",
      "O resultado da divisão inteir é: 2\n"
     ]
    }
   ],
   "source": [
    "n1 = int(input('Digite o numerador, ele deve ser um valor diferente de zero: '))\n",
    "n2 = int(input('Digite o denominador, ele deve ser um valor diferente de zero: '))\n",
    "print(n1//n2)"
   ]
  },
  {
   "cell_type": "markdown",
   "metadata": {},
   "source": [
    "#### Questão 8\n",
    "\n",
    "Crie um programa que solicite dois valores numéricos, um numerador e um denominador, e retorne o resto da divisão entre os dois valores. Deixe claro que o valor do denominador não pode ser `0`."
   ]
  },
  {
   "cell_type": "code",
   "execution_count": null,
   "metadata": {},
   "outputs": [
    {
     "name": "stdout",
     "output_type": "stream",
     "text": [
      "Digite o numerador, ele deve ser um valor diferente de zero: 7\n",
      "Digite o denominador, ele deve ser um valor diferente de zero: 3\n",
      "O resto da divisão de 7 por 3, é igual a: 1\n"
     ]
    }
   ],
   "source": [
    "n1 = int(input('Digite o numerador, ele deve ser um valor diferente de zero: '))\n",
    "n2 = int(input('Digite o denominador, ele deve ser um valor diferente de zero: '))\n",
    "print(n1%n2)"
   ]
  },
  {
   "cell_type": "markdown",
   "metadata": {},
   "source": [
    "#### Questão 9\n",
    "\n",
    "Crie um código que solicita 3 notas de um estudante e imprima a média das notas."
   ]
  },
  {
   "cell_type": "code",
   "execution_count": null,
   "metadata": {},
   "outputs": [
    {
     "name": "stdout",
     "output_type": "stream",
     "text": [
      "Insira a primeira nota: 8\n",
      "Insira a segunda nota: 9\n",
      "Insira a terceira nota: 6\n",
      "A média das notas é igual a 7.666666666666667\n"
     ]
    }
   ],
   "source": [
    "n1 = float(input('Insira a primeira nota: '))\n",
    "n2 = float(input('Insira a segunda nota: '))\n",
    "n3 = float(input('Insira a terceira nota: '))\n",
    "print(f'Média {(n1+n2+n3)/3}.')"
   ]
  },
  {
   "cell_type": "markdown",
   "metadata": {},
   "source": [
    "#### Questão 10\n",
    "\n",
    "Crie um código que calcule e imprima a média ponderada dos números 5, 12, 20 e 15 com pesos respectivamente iguais a 1, 2, 3 e 4."
   ]
  },
  {
   "cell_type": "code",
   "execution_count": null,
   "metadata": {},
   "outputs": [
    {
     "name": "stdout",
     "output_type": "stream",
     "text": [
      "Média ponderada igual a 14.9\n"
     ]
    }
   ],
   "source": [
    "media_pond = (5*1+12*2+20*3+15*4)/(1+2+3+4)\n",
    "print(f'Média ponderada igual a {media_pond}')"
   ]
  }
 ],
 "metadata": {
  "language_info": {
   "name": "python"
  }
 },
 "nbformat": 4,
 "nbformat_minor": 2
}
