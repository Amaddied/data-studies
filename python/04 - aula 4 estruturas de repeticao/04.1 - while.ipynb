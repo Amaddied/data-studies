{
 "cells": [
  {
   "cell_type": "markdown",
   "metadata": {},
   "source": [
    "Vamos construir um exemplo com um contador de 1 até 10."
   ]
  },
  {
   "cell_type": "code",
   "execution_count": null,
   "metadata": {},
   "outputs": [],
   "source": [
    "contador = 1\n",
    "while contador <= 10:\n",
    "  print(contador)\n",
    "  contador += 1 #somar um ao valor da variavel"
   ]
  },
  {
   "cell_type": "markdown",
   "metadata": {},
   "source": [
    "Agora vamos coletar as notas e médias de cada aluno dentro do while. Faremos um exemplo com 3 médias."
   ]
  },
  {
   "cell_type": "code",
   "execution_count": null,
   "metadata": {},
   "outputs": [],
   "source": [
    "contador = 1\n",
    "while contador <=3:\n",
    "  nota_1 = float(input('Digite a 1° nota: '))\n",
    "  nota_2 = float(input('Digite a 2° nota: '))\n",
    "\n",
    "  print(f'Média: {(nota_1+nota_2)/2}')\n",
    "  contador +=1"
   ]
  }
 ],
 "metadata": {
  "kernelspec": {
   "display_name": "base",
   "language": "python",
   "name": "python3"
  },
  "language_info": {
   "codemirror_mode": {
    "name": "ipython",
    "version": 3
   },
   "file_extension": ".py",
   "mimetype": "text/x-python",
   "name": "python",
   "nbconvert_exporter": "python",
   "pygments_lexer": "ipython3",
   "version": "3.11.3"
  }
 },
 "nbformat": 4,
 "nbformat_minor": 2
}
